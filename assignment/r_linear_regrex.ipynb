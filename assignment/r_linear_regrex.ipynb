{
 "cells": [
  {
   "cell_type": "markdown",
   "id": "e5114f54-f89c-4522-ad29-9ed141c0c859",
   "metadata": {},
   "source": [
    "# Linear Modeling in R"
   ]
  },
  {
   "cell_type": "markdown",
   "id": "2419935b-d098-4df6-af04-0450b178344b",
   "metadata": {},
   "source": [
    "## Import statements "
   ]
  },
  {
   "cell_type": "code",
   "execution_count": null,
   "id": "96b86865-b326-43af-891d-de0923283594",
   "metadata": {
    "tags": []
   },
   "outputs": [
    {
     "name": "stderr",
     "output_type": "stream",
     "text": [
      "Warning message:\n",
      "“package ‘ggplot’ is not available for this version of R\n",
      "\n",
      "A version of this package for your version of R might be available elsewhere,\n",
      "see the ideas at\n",
      "https://cran.r-project.org/doc/manuals/r-patched/R-admin.html#Installing-packages”\n",
      "also installing the dependencies ‘lifecycle’, ‘pillar’, ‘rlang’, ‘tibble’, ‘tidyselect’, ‘vctrs’\n",
      "\n",
      "\n"
     ]
    }
   ],
   "source": [
    "install.packages (\"ggplot\")\n",
    "install.packages (\"dplyr\")\n",
    "install.packages (\"broom\")\n",
    "install.packages (\"ggpubr\")"
   ]
  },
  {
   "cell_type": "markdown",
   "id": "d2e6e0de-40d7-4098-b918-e932776e8c95",
   "metadata": {},
   "source": [
    "# Importing the dataset"
   ]
  },
  {
   "cell_type": "code",
   "execution_count": 5,
   "id": "4cd9089c-b303-4999-be95-24247008ea32",
   "metadata": {
    "tags": []
   },
   "outputs": [
    {
     "name": "stdout",
     "output_type": "stream",
     "text": [
      "[1] \"regrex1.csv\"\n"
     ]
    }
   ],
   "source": [
    "file_path <- \"regrex1.csv\"\n",
    "data <- read.csv(file = file_path)\n",
    "\n",
    "print(\"regrex1.csv\")"
   ]
  },
  {
   "cell_type": "code",
   "execution_count": 6,
   "id": "f88478a7-cd8b-43cd-82d5-08a58a7060d3",
   "metadata": {
    "tags": []
   },
   "outputs": [
    {
     "ename": "ERROR",
     "evalue": "Error in read.table(file = file, header = header, sep = sep, quote = quote, : object 'regrex1.csv' not found\n",
     "output_type": "error",
     "traceback": [
      "Error in read.table(file = file, header = header, sep = sep, quote = quote, : object 'regrex1.csv' not found\nTraceback:\n",
      "1. read.csv(regrex1.csv)",
      "2. read.table(file = file, header = header, sep = sep, quote = quote, \n .     dec = dec, fill = fill, comment.char = comment.char, ...)"
     ]
    }
   ],
   "source": [
    "dataset = read.csv(regrex1.csv)"
   ]
  },
  {
   "cell_type": "markdown",
   "id": "1a0064c6-5b8c-42ff-9c78-f633c5cb0881",
   "metadata": {
    "tags": []
   },
   "source": [
    "# Basic Stats"
   ]
  },
  {
   "cell_type": "code",
   "execution_count": 4,
   "id": "d76ae5b4-34c9-4c53-a1e7-987b52f4b6d1",
   "metadata": {
    "tags": []
   },
   "outputs": [
    {
     "ename": "ERROR",
     "evalue": "Error in summary(regrex.csv): object 'regrex.csv' not found\n",
     "output_type": "error",
     "traceback": [
      "Error in summary(regrex.csv): object 'regrex.csv' not found\nTraceback:\n",
      "1. summary(regrex.csv)"
     ]
    }
   ],
   "source": [
    "summary (regrex.csv)"
   ]
  },
  {
   "cell_type": "code",
   "execution_count": 2,
   "id": "f71c2c00-0e55-4452-94d3-c71a31ec90ad",
   "metadata": {
    "tags": []
   },
   "outputs": [],
   "source": []
  },
  {
   "cell_type": "code",
   "execution_count": null,
   "id": "7ad7af4d-b151-4680-b305-49768c83f3fa",
   "metadata": {},
   "outputs": [],
   "source": []
  }
 ],
 "metadata": {
  "kernelspec": {
   "display_name": "R",
   "language": "R",
   "name": "ir"
  },
  "language_info": {
   "codemirror_mode": "r",
   "file_extension": ".r",
   "mimetype": "text/x-r-source",
   "name": "R",
   "pygments_lexer": "r",
   "version": "4.0.5"
  }
 },
 "nbformat": 4,
 "nbformat_minor": 5
}
