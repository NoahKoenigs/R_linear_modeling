{
 "cells": [
  {
   "cell_type": "markdown",
   "id": "ce4b51b5-6a58-4e17-b699-769d27aec0f2",
   "metadata": {},
   "source": [
    "#  R Linear Model"
   ]
  },
  {
   "cell_type": "markdown",
   "id": "1a0e071e-323e-48e2-a714-de18e4c31691",
   "metadata": {},
   "source": [
    "## Import statements"
   ]
  },
  {
   "cell_type": "code",
   "execution_count": null,
   "id": "2ae5fd91-40c4-45a7-8195-191699c8c1fb",
   "metadata": {
    "tags": []
   },
   "outputs": [],
   "source": [
    "install.packages (\"ggplot2\")\n",
    "install.packages (\"dplyr\")\n",
    "install.packages (\"lifecycle\")\n",
    "install.packages (\"rlang\")\n",
    "install.packages (\"vctrs\")\n",
    "install.packages (\"matplotlib\")"
   ]
  },
  {
   "cell_type": "markdown",
   "id": "55d8eebe-2987-44d3-ab71-b854a8f84c92",
   "metadata": {},
   "source": [
    "## Drop .csv HERE"
   ]
  },
  {
   "cell_type": "code",
   "execution_count": 3,
   "id": "e9433dd6-eaf9-4421-86e0-c437837cb5b9",
   "metadata": {
    "tags": []
   },
   "outputs": [],
   "source": [
    "dataset = read.csv (\"regrex1.csv\")"
   ]
  },
  {
   "cell_type": "markdown",
   "id": "6a09d298-6b71-44a4-b543-c72ea8520fbd",
   "metadata": {},
   "source": [
    "### Starting linear model"
   ]
  },
  {
   "cell_type": "code",
   "execution_count": 4,
   "id": "f4933b8d-d2f3-43a0-a12f-f04ce4d025b7",
   "metadata": {
    "tags": []
   },
   "outputs": [],
   "source": [
    "model = lm(formula = x ~ y, data = dataset)"
   ]
  },
  {
   "cell_type": "markdown",
   "id": "d84a2bdf-f6c1-4236-aff1-b2d382bfc741",
   "metadata": {},
   "source": [
    "## Summary analysis of model"
   ]
  },
  {
   "cell_type": "markdown",
   "id": "904f9101-b8e6-4cb2-bbe7-14b76a0df915",
   "metadata": {
    "tags": []
   },
   "source": [
    "summary(model)"
   ]
  },
  {
   "cell_type": "markdown",
   "id": "cbf04c8d-2c21-44e0-a31b-9d3e5903f44f",
   "metadata": {},
   "source": [
    "## Graph"
   ]
  },
  {
   "cell_type": "code",
   "execution_count": null,
   "id": "9dd46a1e-d405-47e0-b351-e66d222d2136",
   "metadata": {},
   "outputs": [],
   "source": []
  },
  {
   "cell_type": "code",
   "execution_count": null,
   "id": "d8799439-5198-433d-92df-d5acbb642f70",
   "metadata": {},
   "outputs": [],
   "source": []
  },
  {
   "cell_type": "code",
   "execution_count": 9,
   "id": "e8eaad0d-b479-4562-a424-ce2d5e08e25a",
   "metadata": {
    "tags": []
   },
   "outputs": [
    {
     "ename": "ERROR",
     "evalue": "Error in parse(text = x, srcfile = src): <text>:7:0: unexpected end of input\n5:                 color = 'green') +\n6:     \n  ^\n",
     "output_type": "error",
     "traceback": [
      "Error in parse(text = x, srcfile = src): <text>:7:0: unexpected end of input\n5:                 color = 'green') +\n6:     \n  ^\nTraceback:\n"
     ]
    }
   ],
   "source": [
    "library (ggplot2) \n",
    "ggplot() +\n",
    "    geom_point(aes(x = dataset$x, y = dataset$y),color = 'orange') +\n",
    "    geom_line(aes(x = dataset$x, y = predict(model, newdata = dataset)),\n",
    "                color = 'green') +\n",
    "    "
   ]
  },
  {
   "cell_type": "code",
   "execution_count": null,
   "id": "8d833d5a-40d0-48e5-ab4c-92e2b2dbf49e",
   "metadata": {},
   "outputs": [],
   "source": [
    "ggtitle(x vs y) + xlab('x') + ylab('y')"
   ]
  }
 ],
 "metadata": {
  "kernelspec": {
   "display_name": "R",
   "language": "R",
   "name": "ir"
  },
  "language_info": {
   "codemirror_mode": "r",
   "file_extension": ".r",
   "mimetype": "text/x-r-source",
   "name": "R",
   "pygments_lexer": "r",
   "version": "4.0.5"
  }
 },
 "nbformat": 4,
 "nbformat_minor": 5
}
