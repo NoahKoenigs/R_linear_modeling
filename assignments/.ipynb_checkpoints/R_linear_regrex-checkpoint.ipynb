{
 "cells": [
  {
   "cell_type": "markdown",
   "id": "ce4b51b5-6a58-4e17-b699-769d27aec0f2",
   "metadata": {},
   "source": [
    "#  R Linear Model"
   ]
  },
  {
   "cell_type": "markdown",
   "id": "1a0e071e-323e-48e2-a714-de18e4c31691",
   "metadata": {},
   "source": [
    "## Import statements"
   ]
  },
  {
   "cell_type": "code",
   "execution_count": null,
   "id": "2ae5fd91-40c4-45a7-8195-191699c8c1fb",
   "metadata": {
    "tags": []
   },
   "outputs": [],
   "source": [
    "install.packages (\"ggplot2\")\n",
    "install.packages (\"dplyr\")\n",
    "install.packages (\"lifecycle\")\n",
    "install.packages (\"rlang\")\n",
    "install.packages (\"vctrs\")\n",
    "install.packages (\"matplotlib\")"
   ]
  },
  {
   "cell_type": "markdown",
   "id": "55d8eebe-2987-44d3-ab71-b854a8f84c92",
   "metadata": {},
   "source": [
    "## Drop .csv HERE"
   ]
  },
  {
   "cell_type": "code",
   "execution_count": 3,
   "id": "e9433dd6-eaf9-4421-86e0-c437837cb5b9",
   "metadata": {
    "tags": []
   },
   "outputs": [],
   "source": [
    "dataset = read.csv (\"regrex1.csv\")"
   ]
  },
  {
   "cell_type": "markdown",
   "id": "6a09d298-6b71-44a4-b543-c72ea8520fbd",
   "metadata": {},
   "source": [
    "### Starting linear model"
   ]
  },
  {
   "cell_type": "code",
   "execution_count": 4,
   "id": "f4933b8d-d2f3-43a0-a12f-f04ce4d025b7",
   "metadata": {
    "tags": []
   },
   "outputs": [],
   "source": [
    "model = lm(formula = x ~ y, data = dataset)"
   ]
  },
  {
   "cell_type": "code",
   "execution_count": null,
   "id": "ed065ebd-30be-46be-abbe-5477d9e005f5",
   "metadata": {},
   "outputs": [],
   "source": []
  }
 ],
 "metadata": {
  "kernelspec": {
   "display_name": "R",
   "language": "R",
   "name": "ir"
  },
  "language_info": {
   "codemirror_mode": "r",
   "file_extension": ".r",
   "mimetype": "text/x-r-source",
   "name": "R",
   "pygments_lexer": "r",
   "version": "4.0.5"
  }
 },
 "nbformat": 4,
 "nbformat_minor": 5
}
